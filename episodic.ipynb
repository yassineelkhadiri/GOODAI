{
 "cells": [
  {
   "cell_type": "markdown",
   "metadata": {},
   "source": [
    "# Episodic memory."
   ]
  },
  {
   "cell_type": "markdown",
   "metadata": {},
   "source": [
    "### First test case"
   ]
  },
  {
   "cell_type": "code",
   "execution_count": 1,
   "metadata": {},
   "outputs": [],
   "source": [
    "from goodai.src.models import OpenSourceModel, Agent"
   ]
  },
  {
   "cell_type": "code",
   "execution_count": 2,
   "metadata": {},
   "outputs": [],
   "source": [
    "model_name = \"mistralai/Mixtral-8x7B-Instruct-v0.1\""
   ]
  },
  {
   "cell_type": "code",
   "execution_count": 3,
   "metadata": {},
   "outputs": [
    {
     "name": "stderr",
     "output_type": "stream",
     "text": [
      "[2024-03-03 21:34:22,276]:[root]:[INFO]: Connection to session database established.\n"
     ]
    }
   ],
   "source": [
    "model = OpenSourceModel(model_name)\n",
    "agent = Agent(model)"
   ]
  },
  {
   "cell_type": "markdown",
   "metadata": {},
   "source": [
    "First let's start with a clean ``session``, a session is a combinations of interactions with the ``agent``, these interactions are saved in a local ``sqlite`` database in order to preserve them, if we start a new session all information provided to the ``agent`` will be lost."
   ]
  },
  {
   "cell_type": "code",
   "execution_count": 4,
   "metadata": {},
   "outputs": [
    {
     "name": "stderr",
     "output_type": "stream",
     "text": [
      "[2024-03-03 21:34:29,733]:[root]:[INFO]: Cleared session database.\n"
     ]
    }
   ],
   "source": [
    "agent.new_session()"
   ]
  },
  {
   "cell_type": "markdown",
   "metadata": {},
   "source": [
    "Now, let's provide our ``agent`` with some informations."
   ]
  },
  {
   "cell_type": "code",
   "execution_count": 5,
   "metadata": {},
   "outputs": [
    {
     "data": {
      "text/plain": [
       "\"That's great! I'm sure the side dresser will look nice in your bedroom. And omelets are a delicious and easy meal to make for dinner. Do you need any recipe suggestions or cooking tips?\""
      ]
     },
     "execution_count": 5,
     "metadata": {},
     "output_type": "execute_result"
    }
   ],
   "source": [
    "agent.interact(\n",
    "    \"I have bought a side dresser for the bedroom, and some ingredients for dinner tonight. I am going to make omelets!\"\n",
    ")"
   ]
  },
  {
   "cell_type": "markdown",
   "metadata": {},
   "source": [
    "Now let's mimic the end of our conversation by deleting the ``agent`` this will save our interactions in the database so the ``agent`` can keep track of past interactions."
   ]
  },
  {
   "cell_type": "code",
   "execution_count": 6,
   "metadata": {},
   "outputs": [
    {
     "name": "stderr",
     "output_type": "stream",
     "text": [
      "[2024-03-03 21:34:44,533]:[root]:[INFO]: Memories saved in local session database\n"
     ]
    }
   ],
   "source": [
    "del agent"
   ]
  },
  {
   "attachments": {
    "db.png": {
     "image/png": "[encoded data removed]"
    }
   },
   "cell_type": "markdown",
   "metadata": {},
   "source": [
    "![db.png](attachment:db.png)"
   ]
  },
  {
   "cell_type": "markdown",
   "metadata": {},
   "source": [
    "Now by creating a new instance of the ``agent``, it's ``memory manager`` will retrieve the past conversations we had and use it to provide context to the agent."
   ]
  },
  {
   "cell_type": "code",
   "execution_count": 7,
   "metadata": {},
   "outputs": [
    {
     "name": "stderr",
     "output_type": "stream",
     "text": [
      "[2024-03-03 21:35:09,858]:[root]:[INFO]: Connection to session database established.\n"
     ]
    }
   ],
   "source": [
    "agent = Agent(model)"
   ]
  },
  {
   "cell_type": "code",
   "execution_count": 8,
   "metadata": {},
   "outputs": [
    {
     "data": {
      "text/plain": [
       "'Yes, you can use the ingredients you bought two days ago to prepare dinner tonight.'"
      ]
     },
     "execution_count": 8,
     "metadata": {},
     "output_type": "execute_result"
    }
   ],
   "source": [
    "agent.interact(\n",
    "    \"I think I will prepare something for dinner tonight... Do you think I could use the ingredients I bought two days ago?\"\n",
    ")"
   ]
  },
  {
   "cell_type": "markdown",
   "metadata": {},
   "source": [
    "### Second test case"
   ]
  },
  {
   "cell_type": "markdown",
   "metadata": {},
   "source": [
    "Let's refresh our ``agent`` memory and try with another use case."
   ]
  },
  {
   "cell_type": "code",
   "execution_count": 10,
   "metadata": {},
   "outputs": [
    {
     "name": "stderr",
     "output_type": "stream",
     "text": [
      "[2024-03-03 21:36:40,274]:[root]:[INFO]: Cleared session database.\n"
     ]
    }
   ],
   "source": [
    "agent.new_session()"
   ]
  },
  {
   "cell_type": "code",
   "execution_count": 11,
   "metadata": {},
   "outputs": [
    {
     "data": {
      "text/plain": [
       "\"Great, you've purchased some items for the house! I'm here to help you with any questions or requests you have regarding those items. For example, you can ask me about the size or color of the mirror, or where you could place the potted plants and standing lamp for optimal lighting and decor. Let me know how I can assist you further!\""
      ]
     },
     "execution_count": 11,
     "metadata": {},
     "output_type": "execute_result"
    }
   ],
   "source": [
    "agent.interact(\n",
    "    \"I have purchased some items for the house: A mirror, two potted plants and a standing lamp.\"\n",
    ")"
   ]
  },
  {
   "cell_type": "code",
   "execution_count": 12,
   "metadata": {},
   "outputs": [
    {
     "name": "stderr",
     "output_type": "stream",
     "text": [
      "[2024-03-03 21:36:54,222]:[root]:[INFO]: Memories saved in local session database\n"
     ]
    }
   ],
   "source": [
    "del agent"
   ]
  },
  {
   "cell_type": "code",
   "execution_count": 13,
   "metadata": {},
   "outputs": [
    {
     "name": "stderr",
     "output_type": "stream",
     "text": [
      "[2024-03-03 21:36:55,408]:[root]:[INFO]: Connection to session database established.\n"
     ]
    }
   ],
   "source": [
    "agent = Agent(model)"
   ]
  },
  {
   "cell_type": "code",
   "execution_count": 14,
   "metadata": {},
   "outputs": [
    {
     "data": {
      "text/plain": [
       "'Yes, you purchased a mirror, two potted plants, and a standing lamp for the house.'"
      ]
     },
     "execution_count": 14,
     "metadata": {},
     "output_type": "execute_result"
    }
   ],
   "source": [
    "agent.interact(\n",
    "    \"Yesterday I got home with some new items for the house. Do you remember what they were?\"\n",
    ")"
   ]
  }
 ],
 "metadata": {
  "kernelspec": {
   "display_name": "goodai_task",
   "language": "python",
   "name": "python3"
  },
  "language_info": {
   "codemirror_mode": {
    "name": "ipython",
    "version": 3
   },
   "file_extension": ".py",
   "mimetype": "text/x-python",
   "name": "python",
   "nbconvert_exporter": "python",
   "pygments_lexer": "ipython3",
   "version": "3.10.13"
  }
 },
 "nbformat": 4,
 "nbformat_minor": 2
}
