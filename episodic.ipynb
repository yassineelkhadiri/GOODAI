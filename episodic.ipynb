{
 "cells": [
  {
   "cell_type": "markdown",
   "metadata": {},
   "source": [
    "# Episodic memory."
   ]
  },
  {
   "cell_type": "markdown",
   "metadata": {},
   "source": [
    "#### Model and agent loading"
   ]
  },
  {
   "cell_type": "code",
   "execution_count": 1,
   "metadata": {},
   "outputs": [],
   "source": [
    "from goodai.src.models import OpenSourceModel, Agent"
   ]
  },
  {
   "cell_type": "code",
   "execution_count": 2,
   "metadata": {},
   "outputs": [],
   "source": [
    "model_name = \"mistralai/Mixtral-8x7B-Instruct-v0.1\""
   ]
  },
  {
   "cell_type": "code",
   "execution_count": 3,
   "metadata": {},
   "outputs": [
    {
     "name": "stderr",
     "output_type": "stream",
     "text": [
      "[2024-03-01 00:42:42,150]:[root]:[INFO]: connection to session database established.\n",
      "[2024-03-01 00:42:42,157]:[sentence_transformers.SentenceTransformer]:[INFO]: Load pretrained SentenceTransformer: sentence-transformers/all-mpnet-base-v2\n"
     ]
    }
   ],
   "source": [
    "model = OpenSourceModel(model_name)\n",
    "agent = Agent(model)"
   ]
  },
  {
   "cell_type": "markdown",
   "metadata": {},
   "source": [
    "First let's start with a clean ``session``, a session is a combinations of interactions with the ``agent``, these interactions are saved in a local ``sqlite`` database in order to preserve them, if we start a new session all information provided to the ``agent`` will be lost."
   ]
  },
  {
   "cell_type": "code",
   "execution_count": 4,
   "metadata": {},
   "outputs": [
    {
     "name": "stderr",
     "output_type": "stream",
     "text": [
      "[2024-03-01 00:42:49,318]:[root]:[INFO]: Cleared session database.\n"
     ]
    }
   ],
   "source": [
    "agent.new_session()"
   ]
  },
  {
   "cell_type": "markdown",
   "metadata": {},
   "source": [
    "Now, let's provide our ``agent`` with some informations."
   ]
  },
  {
   "cell_type": "code",
   "execution_count": 5,
   "metadata": {},
   "outputs": [
    {
     "data": {
      "application/vnd.jupyter.widget-view+json": {
       "model_id": "67c586d142894ba589a57c16dfeb7af8",
       "version_major": 2,
       "version_minor": 0
      },
      "text/plain": [
       "Batches:   0%|          | 0/1 [00:00<?, ?it/s]"
      ]
     },
     "metadata": {},
     "output_type": "display_data"
    },
    {
     "data": {
      "text/plain": [
       "\"Hi Yassine! It's nice to meet you. How can I assist you today?\""
      ]
     },
     "execution_count": 5,
     "metadata": {},
     "output_type": "execute_result"
    }
   ],
   "source": [
    "agent.interact(\"Hello, there my first name is Yassine.\")"
   ]
  },
  {
   "cell_type": "markdown",
   "metadata": {},
   "source": [
    "*Agent*: \"Hi Yassine! It's nice to meet you. How can I assist you today?\""
   ]
  },
  {
   "cell_type": "code",
   "execution_count": 6,
   "metadata": {},
   "outputs": [
    {
     "data": {
      "application/vnd.jupyter.widget-view+json": {
       "model_id": "f298d1468e6840bcb1112170cbf6c34b",
       "version_major": 2,
       "version_minor": 0
      },
      "text/plain": [
       "Batches:   0%|          | 0/1 [00:00<?, ?it/s]"
      ]
     },
     "metadata": {},
     "output_type": "display_data"
    },
    {
     "data": {
      "text/plain": [
       "'Hello Yassine Elkhadiri, nice to meet you!'"
      ]
     },
     "execution_count": 6,
     "metadata": {},
     "output_type": "execute_result"
    }
   ],
   "source": [
    "agent.interact(\"recall that my last name is Elkhadiri.\")"
   ]
  },
  {
   "cell_type": "markdown",
   "metadata": {},
   "source": [
    "*Agent*: 'Hello Yassine Elkhadiri, nice to meet you!'"
   ]
  },
  {
   "cell_type": "markdown",
   "metadata": {},
   "source": [
    "Now let's mimic the end of our conversation by deleting the ``agent`` this will save our interactions in the database so the ``agent`` can keep track of past interactions."
   ]
  },
  {
   "cell_type": "code",
   "execution_count": 7,
   "metadata": {},
   "outputs": [
    {
     "name": "stderr",
     "output_type": "stream",
     "text": [
      "[2024-03-01 00:43:02,388]:[root]:[INFO]: Memories saved in local session database\n"
     ]
    }
   ],
   "source": [
    "del agent"
   ]
  },
  {
   "attachments": {
    "image.png": {
     "image/png": "[encoded data removed]"
    }
   },
   "cell_type": "markdown",
   "metadata": {},
   "source": [
    "We can double check that our interactions are saved by checking the content of the database.\n",
    "\n",
    "![images/db.png](attachment:image.png)"
   ]
  },
  {
   "cell_type": "markdown",
   "metadata": {},
   "source": [
    "Now by creating a new instance of the ``agent``, it's ``memory manager`` will retrieve the past conversations we had and use it to provide context to the agent."
   ]
  },
  {
   "cell_type": "code",
   "execution_count": 8,
   "metadata": {},
   "outputs": [
    {
     "name": "stderr",
     "output_type": "stream",
     "text": [
      "[2024-03-01 00:43:03,015]:[root]:[INFO]: connection to session database established.\n",
      "[2024-03-01 00:43:03,021]:[sentence_transformers.SentenceTransformer]:[INFO]: Load pretrained SentenceTransformer: sentence-transformers/all-mpnet-base-v2\n"
     ]
    }
   ],
   "source": [
    "agent = Agent(model)"
   ]
  },
  {
   "cell_type": "code",
   "execution_count": 9,
   "metadata": {},
   "outputs": [
    {
     "data": {
      "application/vnd.jupyter.widget-view+json": {
       "model_id": "6337beaf59c545c791c7cb9c72894f7c",
       "version_major": 2,
       "version_minor": 0
      },
      "text/plain": [
       "Batches:   0%|          | 0/1 [00:00<?, ?it/s]"
      ]
     },
     "metadata": {},
     "output_type": "display_data"
    },
    {
     "data": {
      "text/plain": [
       "'Yes, your first name is Yassine and your last name is Elkhadiri.'"
      ]
     },
     "execution_count": 9,
     "metadata": {},
     "output_type": "execute_result"
    }
   ],
   "source": [
    "agent.interact(\"Do you recall my name?\")"
   ]
  },
  {
   "cell_type": "markdown",
   "metadata": {},
   "source": [
    "*Agent*: 'Yes, your first name is Yassine and your last name is Elkhadiri.'\n"
   ]
  },
  {
   "cell_type": "markdown",
   "metadata": {},
   "source": [
    "This is achieved by augmenting the ``agent`` prompt:\n",
    "\n",
    "You are an AI chatbot designed to interact with a user and help them with their requests.\n",
    "Users may interact with you to provide information or ask you about something they already told you.\n",
    "Your goal is to help the user and interact with them kindly.\n",
    "Please respond only based on the input you receive from the user\n",
    "and please provide only your response without the reasoning behind it.\n",
    "If you don't know the answer to a user question, simply reply with 'I don't know.'.\n",
    "\n",
    "\n",
    "These are recent interactions the user had with you: ['Hello, there my first name is Yassine.', 'recall that my last name is Elkhadiri.']\n",
    "\n",
    "\n",
    "These are the most relevant interactions to the provided user input: ['recall that my last name is Elkhadiri.', 'Hello, there my first name is Yassine.']\n",
    "\n",
    "\n",
    "And this is the user input: Do you recall my name?"
   ]
  }
 ],
 "metadata": {
  "kernelspec": {
   "display_name": "goodai_task",
   "language": "python",
   "name": "python3"
  },
  "language_info": {
   "codemirror_mode": {
    "name": "ipython",
    "version": 3
   },
   "file_extension": ".py",
   "mimetype": "text/x-python",
   "name": "python",
   "nbconvert_exporter": "python",
   "pygments_lexer": "ipython3",
   "version": "3.10.13"
  }
 },
 "nbformat": 4,
 "nbformat_minor": 2
}
