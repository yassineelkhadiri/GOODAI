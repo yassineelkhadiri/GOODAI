{
 "cells": [
  {
   "cell_type": "markdown",
   "metadata": {},
   "source": [
    "## Duplicate memory."
   ]
  },
  {
   "cell_type": "markdown",
   "metadata": {},
   "source": [
    "In this notebook, we will test that our ``agent`` is capable of handling duplicate memories.\n",
    "Through its ``memory manager``, that will identify if a new memory is a duplicate by checking similarity based on context and tokens.\n",
    "If a duplicate memory is found, the policy is to ignore the older ``memory`` in favor of the newer ``memory``."
   ]
  },
  {
   "cell_type": "code",
   "execution_count": 1,
   "metadata": {},
   "outputs": [],
   "source": [
    "from goodai.src.models import OpenSourceModel, Agent"
   ]
  },
  {
   "cell_type": "code",
   "execution_count": 2,
   "metadata": {},
   "outputs": [],
   "source": [
    "model_name = \"mistralai/Mixtral-8x7B-Instruct-v0.1\""
   ]
  },
  {
   "cell_type": "code",
   "execution_count": 3,
   "metadata": {},
   "outputs": [
    {
     "name": "stderr",
     "output_type": "stream",
     "text": [
      "[2024-03-03 22:42:33,056]:[root]:[INFO]: Connection to session database established.\n"
     ]
    }
   ],
   "source": [
    "model = OpenSourceModel(model_name)\n",
    "agent = Agent(model)"
   ]
  },
  {
   "cell_type": "markdown",
   "metadata": {},
   "source": [
    "First let's start with a clean ``session``, a session is a combinations of interactions with the ``agent``, these interactions are saved in a local ``sqlite`` database in order to preserve them, if we start a new session all information provided to the ``agent`` will be lost."
   ]
  },
  {
   "cell_type": "code",
   "execution_count": 4,
   "metadata": {},
   "outputs": [
    {
     "name": "stderr",
     "output_type": "stream",
     "text": [
      "[2024-03-03 22:42:36,717]:[root]:[INFO]: Cleared session database.\n"
     ]
    }
   ],
   "source": [
    "agent.new_session()"
   ]
  },
  {
   "cell_type": "markdown",
   "metadata": {},
   "source": [
    "Now, let's provide our ``agent`` with some informations."
   ]
  },
  {
   "cell_type": "code",
   "execution_count": 5,
   "metadata": {},
   "outputs": [
    {
     "data": {
      "text/plain": [
       "'Great, have a nice time outside! Let me know if you need anything.'"
      ]
     },
     "execution_count": 5,
     "metadata": {},
     "output_type": "execute_result"
    }
   ],
   "source": [
    "agent.interact(\"I am going outside.\")"
   ]
  },
  {
   "cell_type": "code",
   "execution_count": 6,
   "metadata": {},
   "outputs": [
    {
     "data": {
      "text/plain": [
       "'Got it! Have a nice bath.'"
      ]
     },
     "execution_count": 6,
     "metadata": {},
     "output_type": "execute_result"
    }
   ],
   "source": [
    "agent.interact(\"I have returned home and am going to take a bath.\")"
   ]
  },
  {
   "cell_type": "markdown",
   "metadata": {},
   "source": [
    "Now, let's check the content of our memory buffer."
   ]
  },
  {
   "cell_type": "code",
   "execution_count": 7,
   "metadata": {},
   "outputs": [
    {
     "data": {
      "text/plain": [
       "[Memory(content=I am going outside., memory_type=new, timestamp=2024-03-03 22:42:37.975032, expiration=2024-05-02 22:42:37.975032),\n",
       " Memory(content=I have returned home and am going to take a bath., memory_type=new, timestamp=2024-03-03 22:42:38.828608, expiration=2024-05-02 22:42:38.828608)]"
      ]
     },
     "execution_count": 7,
     "metadata": {},
     "output_type": "execute_result"
    }
   ],
   "source": [
    "agent.memory_manager.memory_buffer"
   ]
  },
  {
   "cell_type": "markdown",
   "metadata": {},
   "source": [
    "Now let's provide the same input to the ``agent``"
   ]
  },
  {
   "cell_type": "code",
   "execution_count": 8,
   "metadata": {},
   "outputs": [
    {
     "name": "stderr",
     "output_type": "stream",
     "text": [
      "[2024-03-03 22:42:39,582]:[root]:[WARNING]: Duplicated memory found.\n"
     ]
    },
    {
     "data": {
      "text/plain": [
       "'Great, have a nice time outside!'"
      ]
     },
     "execution_count": 8,
     "metadata": {},
     "output_type": "execute_result"
    }
   ],
   "source": [
    "agent.interact(\"I am going outside again.\")"
   ]
  },
  {
   "cell_type": "markdown",
   "metadata": {},
   "source": [
    "But the ``memory manager`` of the ``agent`` was able to detect that the last interaction is in fact a duplicate of a prior interaction, so the older memory is removed and the newer memory is inserted in its buffer, we can confirm this by checking its content."
   ]
  },
  {
   "cell_type": "code",
   "execution_count": 9,
   "metadata": {},
   "outputs": [
    {
     "data": {
      "text/plain": [
       "[Memory(content=I have returned home and am going to take a bath., memory_type=new, timestamp=2024-03-03 22:42:38.828608, expiration=2024-05-02 22:42:38.828608),\n",
       " Memory(content=I am going outside again., memory_type=new, timestamp=2024-03-03 22:42:39.558270, expiration=2024-05-02 22:42:39.558270)]"
      ]
     },
     "execution_count": 9,
     "metadata": {},
     "output_type": "execute_result"
    }
   ],
   "source": [
    "agent.memory_manager.memory_buffer"
   ]
  }
 ],
 "metadata": {
  "kernelspec": {
   "display_name": "goodai_task",
   "language": "python",
   "name": "python3"
  },
  "language_info": {
   "codemirror_mode": {
    "name": "ipython",
    "version": 3
   },
   "file_extension": ".py",
   "mimetype": "text/x-python",
   "name": "python",
   "nbconvert_exporter": "python",
   "pygments_lexer": "ipython3",
   "version": "3.10.13"
  }
 },
 "nbformat": 4,
 "nbformat_minor": 2
}
